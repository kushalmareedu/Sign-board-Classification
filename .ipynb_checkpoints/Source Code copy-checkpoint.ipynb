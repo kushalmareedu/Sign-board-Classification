{
 "cells": [
  {
   "cell_type": "code",
   "execution_count": 2,
   "metadata": {},
   "outputs": [],
   "source": [
    "import time\n",
    "import numpy as np \n",
    "import pandas as pd\n",
    "import os\n",
    "import cv2\n",
    "from PIL import Image\n",
    "import matplotlib.pyplot as plt\n",
    "import tensorflow as tf\n",
    "from tensorflow import keras\n",
    "from sklearn.model_selection import train_test_split\n",
    "from sklearn.metrics import accuracy_score\n",
    "np.random.seed(42)\n",
    "tf.random.set_seed(42)"
   ]
  },
  {
   "cell_type": "code",
   "execution_count": 3,
   "metadata": {},
   "outputs": [
    {
     "data": {
      "text/plain": [
       "'/Users/kushalmareedu/SIGN BOARD CLASSIFICATION'"
      ]
     },
     "execution_count": 3,
     "metadata": {},
     "output_type": "execute_result"
    }
   ],
   "source": [
    "pwd"
   ]
  },
  {
   "cell_type": "code",
   "execution_count": 4,
   "metadata": {},
   "outputs": [
    {
     "name": "stdout",
     "output_type": "stream",
     "text": [
      "/Users/kushalmareedu/SIGN BOARD CLASSIFICATION/Train//0\n",
      "/Users/kushalmareedu/SIGN BOARD CLASSIFICATION/Train//1\n",
      "/Users/kushalmareedu/SIGN BOARD CLASSIFICATION/Train//2\n",
      "/Users/kushalmareedu/SIGN BOARD CLASSIFICATION/Train//3\n",
      "/Users/kushalmareedu/SIGN BOARD CLASSIFICATION/Train//4\n",
      "/Users/kushalmareedu/SIGN BOARD CLASSIFICATION/Train//5\n",
      "/Users/kushalmareedu/SIGN BOARD CLASSIFICATION/Train//6\n",
      "/Users/kushalmareedu/SIGN BOARD CLASSIFICATION/Train//7\n",
      "/Users/kushalmareedu/SIGN BOARD CLASSIFICATION/Train//8\n",
      "/Users/kushalmareedu/SIGN BOARD CLASSIFICATION/Train//9\n",
      "/Users/kushalmareedu/SIGN BOARD CLASSIFICATION/Train//10\n",
      "/Users/kushalmareedu/SIGN BOARD CLASSIFICATION/Train//11\n",
      "/Users/kushalmareedu/SIGN BOARD CLASSIFICATION/Train//12\n",
      "/Users/kushalmareedu/SIGN BOARD CLASSIFICATION/Train//13\n",
      "/Users/kushalmareedu/SIGN BOARD CLASSIFICATION/Train//14\n",
      "/Users/kushalmareedu/SIGN BOARD CLASSIFICATION/Train//15\n",
      "/Users/kushalmareedu/SIGN BOARD CLASSIFICATION/Train//16\n",
      "/Users/kushalmareedu/SIGN BOARD CLASSIFICATION/Train//17\n",
      "/Users/kushalmareedu/SIGN BOARD CLASSIFICATION/Train//18\n",
      "/Users/kushalmareedu/SIGN BOARD CLASSIFICATION/Train//19\n",
      "/Users/kushalmareedu/SIGN BOARD CLASSIFICATION/Train//20\n",
      "/Users/kushalmareedu/SIGN BOARD CLASSIFICATION/Train//21\n",
      "/Users/kushalmareedu/SIGN BOARD CLASSIFICATION/Train//22\n",
      "/Users/kushalmareedu/SIGN BOARD CLASSIFICATION/Train//23\n",
      "/Users/kushalmareedu/SIGN BOARD CLASSIFICATION/Train//24\n",
      "/Users/kushalmareedu/SIGN BOARD CLASSIFICATION/Train//25\n",
      "/Users/kushalmareedu/SIGN BOARD CLASSIFICATION/Train//26\n",
      "/Users/kushalmareedu/SIGN BOARD CLASSIFICATION/Train//27\n",
      "/Users/kushalmareedu/SIGN BOARD CLASSIFICATION/Train//28\n",
      "/Users/kushalmareedu/SIGN BOARD CLASSIFICATION/Train//29\n",
      "/Users/kushalmareedu/SIGN BOARD CLASSIFICATION/Train//30\n",
      "/Users/kushalmareedu/SIGN BOARD CLASSIFICATION/Train//31\n",
      "/Users/kushalmareedu/SIGN BOARD CLASSIFICATION/Train//32\n",
      "/Users/kushalmareedu/SIGN BOARD CLASSIFICATION/Train//33\n",
      "/Users/kushalmareedu/SIGN BOARD CLASSIFICATION/Train//34\n",
      "/Users/kushalmareedu/SIGN BOARD CLASSIFICATION/Train//35\n",
      "/Users/kushalmareedu/SIGN BOARD CLASSIFICATION/Train//36\n",
      "/Users/kushalmareedu/SIGN BOARD CLASSIFICATION/Train//37\n",
      "/Users/kushalmareedu/SIGN BOARD CLASSIFICATION/Train//38\n",
      "/Users/kushalmareedu/SIGN BOARD CLASSIFICATION/Train//39\n",
      "/Users/kushalmareedu/SIGN BOARD CLASSIFICATION/Train//40\n",
      "/Users/kushalmareedu/SIGN BOARD CLASSIFICATION/Train//41\n",
      "/Users/kushalmareedu/SIGN BOARD CLASSIFICATION/Train//42\n",
      "(39209, 32, 32, 3) (39209,)\n",
      "It has taken 20.78651 seconds\n"
     ]
    }
   ],
   "source": [
    "start = time.time()\n",
    "image_data = []\n",
    "image_labels = []\n",
    "total_classes = 43\n",
    "height = 32\n",
    "width = 32\n",
    "channels = 3\n",
    "input_path = '/Users/kushalmareedu/SIGN BOARD CLASSIFICATION/'\n",
    "\n",
    "for i in range(total_classes):\n",
    "    path = input_path + 'Train//' + str(i)\n",
    "    print(path)\n",
    "    images = os.listdir(path)\n",
    "\n",
    "    for img in images:\n",
    "        try:\n",
    "            image = cv2.imread(path + '//' + img)\n",
    "            image_fromarray = Image.fromarray(image, 'RGB')\n",
    "            resize_image = image_fromarray.resize((height, width))\n",
    "            image_data.append(np.array(resize_image))\n",
    "            image_labels.append(i)\n",
    "        except:\n",
    "            print(\"Error - Image loading\")\n",
    "\n",
    "#Converting lists into numpy arrays\n",
    "image_data = np.array(image_data)\n",
    "image_labels = np.array(image_labels)\n",
    "\n",
    "print(image_data.shape, image_labels.shape)\n",
    "end = time.time()\n",
    "print(\"It has taken\", round(end-start,5), \"seconds\")"
   ]
  },
  {
   "cell_type": "code",
   "execution_count": 5,
   "metadata": {},
   "outputs": [],
   "source": [
    "#shuffling data\n",
    "shuffle_indexes = np.arange(image_data.shape[0])\n",
    "np.random.shuffle(shuffle_indexes)\n",
    "image_data = image_data[shuffle_indexes]\n",
    "image_labels = image_labels[shuffle_indexes]"
   ]
  },
  {
   "cell_type": "code",
   "execution_count": 6,
   "metadata": {},
   "outputs": [
    {
     "name": "stdout",
     "output_type": "stream",
     "text": [
      "X_train.shape (31367, 32, 32, 3)\n",
      "X_valid.shape (7842, 32, 32, 3)\n",
      "y_train.shape (31367,)\n",
      "y_valid.shape (7842,)\n"
     ]
    }
   ],
   "source": [
    "#Splitting training and testing dataset\n",
    "X_train, X_valid, y_train, y_valid = train_test_split(image_data, image_labels, test_size=0.2, random_state=42, shuffle=True)\n",
    "\n",
    "X_train = X_train/255 \n",
    "X_valid = X_valid/255\n",
    "\n",
    "print(\"X_train.shape\", X_train.shape)\n",
    "print(\"X_valid.shape\", X_valid.shape)\n",
    "print(\"y_train.shape\", y_train.shape)\n",
    "print(\"y_valid.shape\", y_valid.shape)"
   ]
  },
  {
   "cell_type": "code",
   "execution_count": 7,
   "metadata": {},
   "outputs": [
    {
     "name": "stdout",
     "output_type": "stream",
     "text": [
      "(31367, 43)\n",
      "(7842, 43)\n"
     ]
    }
   ],
   "source": [
    "#Converting the labels into one hot encoding\n",
    "y_train = keras.utils.to_categorical(y_train, total_classes)\n",
    "y_valid = keras.utils.to_categorical(y_valid, total_classes)\n",
    "\n",
    "print(y_train.shape)\n",
    "print(y_valid.shape)"
   ]
  },
  {
   "cell_type": "code",
   "execution_count": 8,
   "metadata": {},
   "outputs": [],
   "source": [
    "keras.backend.clear_session() # clearing session\n",
    "np.random.seed(42) # generating random seed\n",
    "tf.random.set_seed(42) # set.seed function helps reuse same set of random variables"
   ]
  },
  {
   "cell_type": "code",
   "execution_count": 9,
   "metadata": {},
   "outputs": [],
   "source": [
    "model = keras.models.Sequential([    keras.layers.Conv2D(filters=16, kernel_size=(5,5), activation='relu', input_shape=(height,width,channels)),\n",
    "    keras.layers.Conv2D(filters=32, kernel_size=(3,3), activation='relu'),\n",
    "    keras.layers.MaxPool2D(pool_size=(2, 2)),\n",
    "    keras.layers.Dropout(rate=0.25),\n",
    "    keras.layers.Conv2D(filters=64, kernel_size=(3,3), activation='relu'),\n",
    "    keras.layers.Conv2D(filters=128, kernel_size=(3,3), activation='relu'),\n",
    "    keras.layers.MaxPool2D(pool_size=(2, 2)),\n",
    "    keras.layers.Dropout(rate=0.25),\n",
    "    keras.layers.Flatten(),\n",
    "    keras.layers.Dense(512, activation='relu'),\n",
    "    keras.layers.Dropout(rate=0.5),\n",
    "    keras.layers.Dense(43, activation='softmax')\n",
    "])"
   ]
  },
  {
   "cell_type": "code",
   "execution_count": 10,
   "metadata": {},
   "outputs": [
    {
     "name": "stdout",
     "output_type": "stream",
     "text": [
      "Model: \"sequential\"\n",
      "_________________________________________________________________\n",
      "Layer (type)                 Output Shape              Param #   \n",
      "=================================================================\n",
      "conv2d (Conv2D)              (None, 28, 28, 16)        1216      \n",
      "_________________________________________________________________\n",
      "conv2d_1 (Conv2D)            (None, 26, 26, 32)        4640      \n",
      "_________________________________________________________________\n",
      "max_pooling2d (MaxPooling2D) (None, 13, 13, 32)        0         \n",
      "_________________________________________________________________\n",
      "dropout (Dropout)            (None, 13, 13, 32)        0         \n",
      "_________________________________________________________________\n",
      "conv2d_2 (Conv2D)            (None, 11, 11, 64)        18496     \n",
      "_________________________________________________________________\n",
      "conv2d_3 (Conv2D)            (None, 9, 9, 128)         73856     \n",
      "_________________________________________________________________\n",
      "max_pooling2d_1 (MaxPooling2 (None, 4, 4, 128)         0         \n",
      "_________________________________________________________________\n",
      "dropout_1 (Dropout)          (None, 4, 4, 128)         0         \n",
      "_________________________________________________________________\n",
      "flatten (Flatten)            (None, 2048)              0         \n",
      "_________________________________________________________________\n",
      "dense (Dense)                (None, 512)               1049088   \n",
      "_________________________________________________________________\n",
      "dropout_2 (Dropout)          (None, 512)               0         \n",
      "_________________________________________________________________\n",
      "dense_1 (Dense)              (None, 43)                22059     \n",
      "=================================================================\n",
      "Total params: 1,169,355\n",
      "Trainable params: 1,169,355\n",
      "Non-trainable params: 0\n",
      "_________________________________________________________________\n"
     ]
    }
   ],
   "source": [
    "model.summary()"
   ]
  },
  {
   "cell_type": "code",
   "execution_count": 11,
   "metadata": {},
   "outputs": [],
   "source": [
    "#Compilation of the model\n",
    "model.compile(loss='categorical_crossentropy', optimizer='adam', metrics=['accuracy'])"
   ]
  },
  {
   "cell_type": "code",
   "execution_count": null,
   "metadata": {},
   "outputs": [],
   "source": []
  },
  {
   "cell_type": "code",
   "execution_count": 12,
   "metadata": {},
   "outputs": [
    {
     "name": "stdout",
     "output_type": "stream",
     "text": [
      "Epoch 1/11\n",
      "981/981 [==============================] - 39s 39ms/step - loss: 1.6254 - accuracy: 0.5606 - val_loss: 0.0631 - val_accuracy: 0.9821\n",
      "Epoch 2/11\n",
      "981/981 [==============================] - 38s 39ms/step - loss: 0.1438 - accuracy: 0.9547 - val_loss: 0.0428 - val_accuracy: 0.9887\n",
      "Epoch 3/11\n",
      "981/981 [==============================] - 38s 39ms/step - loss: 0.0855 - accuracy: 0.9757 - val_loss: 0.0306 - val_accuracy: 0.9920\n",
      "Epoch 4/11\n",
      "981/981 [==============================] - 39s 39ms/step - loss: 0.0602 - accuracy: 0.9817 - val_loss: 0.0309 - val_accuracy: 0.9922\n",
      "Epoch 5/11\n",
      "981/981 [==============================] - 38s 39ms/step - loss: 0.0504 - accuracy: 0.9839 - val_loss: 0.0339 - val_accuracy: 0.9906\n",
      "Epoch 6/11\n",
      "981/981 [==============================] - 38s 39ms/step - loss: 0.0457 - accuracy: 0.9857 - val_loss: 0.0153 - val_accuracy: 0.9957\n",
      "Epoch 7/11\n",
      "981/981 [==============================] - 38s 39ms/step - loss: 0.0310 - accuracy: 0.9897 - val_loss: 0.0166 - val_accuracy: 0.9955\n",
      "Epoch 8/11\n",
      "981/981 [==============================] - 38s 39ms/step - loss: 0.0431 - accuracy: 0.9871 - val_loss: 0.0152 - val_accuracy: 0.9962\n",
      "Epoch 9/11\n",
      "981/981 [==============================] - 39s 40ms/step - loss: 0.0339 - accuracy: 0.9908 - val_loss: 0.0133 - val_accuracy: 0.9962\n",
      "Epoch 10/11\n",
      "981/981 [==============================] - 40s 40ms/step - loss: 0.0337 - accuracy: 0.9906 - val_loss: 0.0147 - val_accuracy: 0.9968\n",
      "Epoch 11/11\n",
      "981/981 [==============================] - 40s 41ms/step - loss: 0.0300 - accuracy: 0.9907 - val_loss: 0.0195 - val_accuracy: 0.9954\n"
     ]
    }
   ],
   "source": [
    "epochs = 11\n",
    "history = model.fit(X_train, y_train, batch_size=32, epochs=epochs,\n",
    "validation_data=(X_valid, y_valid))"
   ]
  },
  {
   "cell_type": "code",
   "execution_count": 13,
   "metadata": {},
   "outputs": [
    {
     "data": {
      "image/png": "[encoded data removed]",
      "text/plain": [
       "<Figure size 576x360 with 1 Axes>"
      ]
     },
     "metadata": {
      "needs_background": "light"
     },
     "output_type": "display_data"
    }
   ],
   "source": [
    "pd.DataFrame(history.history).plot(figsize=(8, 5))\n",
    "plt.grid(True)\n",
    "plt.gca().set_ylim(0, 1) # setting limits for y-axis\n",
    "plt.show()"
   ]
  },
  {
   "cell_type": "code",
   "execution_count": 20,
   "metadata": {},
   "outputs": [],
   "source": [
    "#testing accuracy on test dataset\n",
    "from sklearn.metrics import accuracy_score\n",
    "start = time.time()\n",
    "test = pd.read_csv(input_path + '//Test.csv')\n",
    "\n",
    "labels = test[\"ClassId\"].values\n",
    "test_imgs = test[\"Path\"].values"
   ]
  },
  {
   "cell_type": "code",
   "execution_count": 21,
   "metadata": {},
   "outputs": [],
   "source": [
    "#dictionary to label all traffic signs class.\n",
    "classes = { 1:'Speed limit (20km/h)',\n",
    "            2:'Speed limit (30km/h)', \n",
    "            3:'Speed limit (50km/h)', \n",
    "            4:'Speed limit (60km/h)', \n",
    "            5:'Speed limit (70km/h)', \n",
    "            6:'Speed limit (80km/h)', \n",
    "            7:'End of speed limit (80km/h)', \n",
    "            8:'Speed limit (100km/h)', \n",
    "            9:'Speed limit (120km/h)', \n",
    "            10:'No passing', \n",
    "            11:'No passing veh over 3.5 tons', \n",
    "            12:'Right-of-way at intersection', \n",
    "            13:'Priority road', \n",
    "            14:'Yield', \n",
    "            15:'Stop', \n",
    "            16:'No vehicles', \n",
    "            17:'Veh > 3.5 tons prohibited', \n",
    "            18:'No entry', \n",
    "            19:'General caution', \n",
    "            20:'Dangerous curve left', \n",
    "            21:'Dangerous curve right', \n",
    "            22:'Double curve', \n",
    "            23:'Bumpy road', \n",
    "            24:'Slippery road', \n",
    "            25:'Road narrows on the right', \n",
    "            26:'Road work', \n",
    "            27:'Traffic signals', \n",
    "            28:'Pedestrians', \n",
    "            29:'Children crossing', \n",
    "            30:'Bicycles crossing', \n",
    "            31:'Beware of ice/snow',\n",
    "            32:'Wild animals crossing', \n",
    "            33:'End speed + passing limits', \n",
    "            34:'Turn right ahead', \n",
    "            35:'Turn left ahead', \n",
    "            36:'Ahead only', \n",
    "            37:'Go straight or right', \n",
    "            38:'Go straight or left', \n",
    "            39:'Keep right', \n",
    "            40:'Keep left', \n",
    "            41:'Roundabout mandatory', \n",
    "            42:'End of no passing', \n",
    "            43:'End no passing veh > 3.5 tons' }"
   ]
  },
  {
   "cell_type": "code",
   "execution_count": 41,
   "metadata": {},
   "outputs": [
    {
     "name": "stdout",
     "output_type": "stream",
     "text": [
      "(1, 32, 32, 3)\n"
     ]
    },
    {
     "data": {
      "text/plain": [
       "<matplotlib.image.AxesImage at 0x7fc203075970>"
      ]
     },
     "execution_count": 41,
     "metadata": {},
     "output_type": "execute_result"
    },
    {
     "data": {
      "image/png": "[encoded data removed]",
      "text/plain": [
       "<Figure size 432x288 with 1 Axes>"
      ]
     },
     "metadata": {
      "needs_background": "light"
     },
     "output_type": "display_data"
    }
   ],
   "source": [
    "image = Image.open('/Users/kushalmareedu/SIGN BOARD CLASSIFICATION/' + test_imgs[34])\n",
    "img = image.resize((height,width))\n",
    "img = np.array(img)/255.\n",
    "img = img.reshape(1,height,width,channels)\n",
    "print(img.shape)\n",
    "plt.imshow(image)"
   ]
  },
  {
   "cell_type": "code",
   "execution_count": 42,
   "metadata": {},
   "outputs": [
    {
     "name": "stdout",
     "output_type": "stream",
     "text": [
      "3\n",
      "Speed limit (50km/h)\n"
     ]
    }
   ],
   "source": [
    "pred = model.predict_classes(img)[0]\n",
    "print(pred+1)\n",
    "sign = classes[pred+1]\n",
    "print(sign)"
   ]
  },
  {
   "cell_type": "code",
   "execution_count": 25,
   "metadata": {},
   "outputs": [
    {
     "name": "stdout",
     "output_type": "stream",
     "text": [
      "0.9677751385589866\n",
      "It has taken 6.49973 seconds\n"
     ]
    }
   ],
   "source": [
    "start = time.time()\n",
    "test = pd.read_csv(input_path + 'Test.csv')\n",
    "\n",
    "labels = test[\"ClassId\"].values\n",
    "imgs = test[\"Path\"].values\n",
    "\n",
    "data =[]\n",
    "\n",
    "for img in imgs:\n",
    "    #test_imgs.append(img_path)\n",
    "    try:\n",
    "        image = cv2.imread(input_path + img)\n",
    "        image_fromarray = Image.fromarray(image, 'RGB')\n",
    "        resize_image = image_fromarray.resize((height, width))\n",
    "        data.append(np.array(resize_image))\n",
    "    except:\n",
    "        print(\"Error\")\n",
    "X_test = np.array(data)\n",
    "X_test = X_test/255\n",
    "\n",
    "pred = model.predict_classes(X_test)\n",
    "\n",
    "#Accuracy with the test data\n",
    "print(accuracy_score(labels, pred))\n",
    "end = time.time()\n",
    "print(\"It has taken\", round(end-start,5), \"seconds\")"
   ]
  },
  {
   "cell_type": "code",
   "execution_count": 19,
   "metadata": {},
   "outputs": [
    {
     "name": "stdout",
     "output_type": "stream",
     "text": [
      "Accuracy: 0.97\n",
      "Precision: 0.97\n",
      "Recall: 0.97\n",
      "F1 score: 0.97\n"
     ]
    }
   ],
   "source": [
    "start = time.time()\n",
    "test = pd.read_csv(input_path + 'Test.csv')\n",
    "\n",
    "labels = test[\"ClassId\"].values\n",
    "imgs = test[\"Path\"].values\n",
    "\n",
    "data =[]\n",
    "\n",
    "for img in imgs:\n",
    "    #test_imgs.append(img_path)\n",
    "    try:\n",
    "        image = cv2.imread(input_path + img)\n",
    "        image_fromarray = Image.fromarray(image, 'RGB')\n",
    "        resize_image = image_fromarray.resize((height, width))\n",
    "        data.append(np.array(resize_image))\n",
    "    except:\n",
    "        print(\"Error\")\n",
    "X_test = np.array(data)\n",
    "X_test = X_test/255\n",
    "\n",
    "pred = model.predict_classes(X_test)\n",
    "from sklearn.metrics import accuracy_score\n",
    "from sklearn.metrics import precision_score\n",
    "from sklearn.metrics import recall_score\n",
    "from sklearn.metrics import f1_score\n",
    "accuracy = accuracy_score(labels, pred)\n",
    "print('Accuracy: %0.2f' % accuracy)\n",
    "precision = precision_score(labels, pred, average=\"weighted\")\n",
    "print('Precision: %0.2f' % precision)\n",
    "recall = recall_score(labels, pred, average=\"weighted\")\n",
    "print('Recall: %0.2f' % recall)\n",
    "f1 = f1_score(labels, pred, average=\"weighted\")\n",
    "print('F1 score: %0.2f' % f1)"
   ]
  },
  {
   "cell_type": "code",
   "execution_count": null,
   "metadata": {},
   "outputs": [],
   "source": []
  },
  {
   "cell_type": "code",
   "execution_count": null,
   "metadata": {},
   "outputs": [],
   "source": []
  }
 ],
 "metadata": {
  "kernelspec": {
   "display_name": "Python 3",
   "language": "python",
   "name": "python3"
  },
  "language_info": {
   "codemirror_mode": {
    "name": "ipython",
    "version": 3
   },
   "file_extension": ".py",
   "mimetype": "text/x-python",
   "name": "python",
   "nbconvert_exporter": "python",
   "pygments_lexer": "ipython3",
   "version": "3.8.3"
  }
 },
 "nbformat": 4,
 "nbformat_minor": 4
}
