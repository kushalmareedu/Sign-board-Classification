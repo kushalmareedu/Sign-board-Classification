{
 "cells": [
  {
   "cell_type": "code",
   "execution_count": 1,
   "metadata": {},
   "outputs": [],
   "source": [
    "import time\n",
    "import numpy as np \n",
    "import pandas as pd\n",
    "import os\n",
    "import cv2\n",
    "from PIL import Image\n",
    "import tensorflow as tf\n",
    "from tensorflow import keras\n",
    "from sklearn.model_selection import train_test_split\n",
    "from sklearn.metrics import accuracy_score\n",
    "np.random.seed(42)\n",
    "tf.random.set_seed(42)"
   ]
  },
  {
   "cell_type": "code",
   "execution_count": 2,
   "metadata": {},
   "outputs": [
    {
     "data": {
      "text/plain": [
       "'/Users/kushalmareedu/SIGN BOARD CLASSIFICATION'"
      ]
     },
     "execution_count": 2,
     "metadata": {},
     "output_type": "execute_result"
    }
   ],
   "source": [
    "pwd"
   ]
  },
  {
   "cell_type": "code",
   "execution_count": 3,
   "metadata": {},
   "outputs": [
    {
     "name": "stdout",
     "output_type": "stream",
     "text": [
      "/Users/kushalmareedu/SIGN BOARD CLASSIFICATION/Train//0\n",
      "/Users/kushalmareedu/SIGN BOARD CLASSIFICATION/Train//1\n",
      "/Users/kushalmareedu/SIGN BOARD CLASSIFICATION/Train//2\n",
      "/Users/kushalmareedu/SIGN BOARD CLASSIFICATION/Train//3\n",
      "/Users/kushalmareedu/SIGN BOARD CLASSIFICATION/Train//4\n",
      "/Users/kushalmareedu/SIGN BOARD CLASSIFICATION/Train//5\n",
      "/Users/kushalmareedu/SIGN BOARD CLASSIFICATION/Train//6\n",
      "/Users/kushalmareedu/SIGN BOARD CLASSIFICATION/Train//7\n",
      "/Users/kushalmareedu/SIGN BOARD CLASSIFICATION/Train//8\n",
      "/Users/kushalmareedu/SIGN BOARD CLASSIFICATION/Train//9\n",
      "/Users/kushalmareedu/SIGN BOARD CLASSIFICATION/Train//10\n",
      "/Users/kushalmareedu/SIGN BOARD CLASSIFICATION/Train//11\n",
      "/Users/kushalmareedu/SIGN BOARD CLASSIFICATION/Train//12\n",
      "/Users/kushalmareedu/SIGN BOARD CLASSIFICATION/Train//13\n",
      "/Users/kushalmareedu/SIGN BOARD CLASSIFICATION/Train//14\n",
      "/Users/kushalmareedu/SIGN BOARD CLASSIFICATION/Train//15\n",
      "/Users/kushalmareedu/SIGN BOARD CLASSIFICATION/Train//16\n",
      "/Users/kushalmareedu/SIGN BOARD CLASSIFICATION/Train//17\n",
      "/Users/kushalmareedu/SIGN BOARD CLASSIFICATION/Train//18\n",
      "/Users/kushalmareedu/SIGN BOARD CLASSIFICATION/Train//19\n",
      "/Users/kushalmareedu/SIGN BOARD CLASSIFICATION/Train//20\n",
      "/Users/kushalmareedu/SIGN BOARD CLASSIFICATION/Train//21\n",
      "/Users/kushalmareedu/SIGN BOARD CLASSIFICATION/Train//22\n",
      "/Users/kushalmareedu/SIGN BOARD CLASSIFICATION/Train//23\n",
      "/Users/kushalmareedu/SIGN BOARD CLASSIFICATION/Train//24\n",
      "/Users/kushalmareedu/SIGN BOARD CLASSIFICATION/Train//25\n",
      "/Users/kushalmareedu/SIGN BOARD CLASSIFICATION/Train//26\n",
      "/Users/kushalmareedu/SIGN BOARD CLASSIFICATION/Train//27\n",
      "/Users/kushalmareedu/SIGN BOARD CLASSIFICATION/Train//28\n",
      "/Users/kushalmareedu/SIGN BOARD CLASSIFICATION/Train//29\n",
      "/Users/kushalmareedu/SIGN BOARD CLASSIFICATION/Train//30\n",
      "/Users/kushalmareedu/SIGN BOARD CLASSIFICATION/Train//31\n",
      "/Users/kushalmareedu/SIGN BOARD CLASSIFICATION/Train//32\n",
      "/Users/kushalmareedu/SIGN BOARD CLASSIFICATION/Train//33\n",
      "/Users/kushalmareedu/SIGN BOARD CLASSIFICATION/Train//34\n",
      "/Users/kushalmareedu/SIGN BOARD CLASSIFICATION/Train//35\n",
      "/Users/kushalmareedu/SIGN BOARD CLASSIFICATION/Train//36\n",
      "/Users/kushalmareedu/SIGN BOARD CLASSIFICATION/Train//37\n",
      "/Users/kushalmareedu/SIGN BOARD CLASSIFICATION/Train//38\n",
      "/Users/kushalmareedu/SIGN BOARD CLASSIFICATION/Train//39\n",
      "/Users/kushalmareedu/SIGN BOARD CLASSIFICATION/Train//40\n",
      "/Users/kushalmareedu/SIGN BOARD CLASSIFICATION/Train//41\n",
      "/Users/kushalmareedu/SIGN BOARD CLASSIFICATION/Train//42\n",
      "(39209, 32, 32, 3) (39209,)\n",
      "It has taken 18.53609 seconds\n"
     ]
    }
   ],
   "source": [
    "start = time.time()\n",
    "image_data = []\n",
    "image_labels = []\n",
    "total_classes = 43\n",
    "height = 32\n",
    "width = 32\n",
    "channels = 3\n",
    "input_path = '/Users/kushalmareedu/SIGN BOARD CLASSIFICATION/'\n",
    "\n",
    "for i in range(total_classes):\n",
    "    path = input_path + 'Train//' + str(i)\n",
    "    print(path)\n",
    "    images = os.listdir(path)\n",
    "\n",
    "    for img in images:\n",
    "        try:\n",
    "            image = cv2.imread(path + '//' + img)\n",
    "            image_fromarray = Image.fromarray(image, 'RGB')\n",
    "            resize_image = image_fromarray.resize((height, width))\n",
    "            image_data.append(np.array(resize_image))\n",
    "            image_labels.append(i)\n",
    "        except:\n",
    "            print(\"Error - Image loading\")\n",
    "\n",
    "#Converting lists into numpy arrays\n",
    "image_data = np.array(image_data)\n",
    "image_labels = np.array(image_labels)\n",
    "\n",
    "print(image_data.shape, image_labels.shape)\n",
    "end = time.time()\n",
    "print(\"It has taken\", round(end-start,5), \"seconds\")"
   ]
  },
  {
   "cell_type": "code",
   "execution_count": 4,
   "metadata": {},
   "outputs": [],
   "source": [
    "#shuffling data\n",
    "shuffle_indexes = np.arange(image_data.shape[0])\n",
    "np.random.shuffle(shuffle_indexes)\n",
    "image_data = image_data[shuffle_indexes]\n",
    "image_labels = image_labels[shuffle_indexes]"
   ]
  },
  {
   "cell_type": "code",
   "execution_count": 5,
   "metadata": {},
   "outputs": [
    {
     "name": "stdout",
     "output_type": "stream",
     "text": [
      "X_train.shape (31367, 32, 32, 3)\n",
      "X_valid.shape (7842, 32, 32, 3)\n",
      "y_train.shape (31367,)\n",
      "y_valid.shape (7842,)\n"
     ]
    }
   ],
   "source": [
    "#Splitting training and testing dataset\n",
    "X_train, X_valid, y_train, y_valid = train_test_split(image_data, image_labels, test_size=0.2, random_state=42, shuffle=True)\n",
    "\n",
    "X_train = X_train/255 \n",
    "X_valid = X_valid/255\n",
    "\n",
    "print(\"X_train.shape\", X_train.shape)\n",
    "print(\"X_valid.shape\", X_valid.shape)\n",
    "print(\"y_train.shape\", y_train.shape)\n",
    "print(\"y_valid.shape\", y_valid.shape)"
   ]
  },
  {
   "cell_type": "code",
   "execution_count": 6,
   "metadata": {},
   "outputs": [
    {
     "name": "stdout",
     "output_type": "stream",
     "text": [
      "(31367, 43)\n",
      "(7842, 43)\n"
     ]
    }
   ],
   "source": [
    "#Converting the labels into one hot encoding\n",
    "y_train = keras.utils.to_categorical(y_train, total_classes)\n",
    "y_valid = keras.utils.to_categorical(y_valid, total_classes)\n",
    "\n",
    "print(y_train.shape)\n",
    "print(y_valid.shape)"
   ]
  },
  {
   "cell_type": "code",
   "execution_count": null,
   "metadata": {},
   "outputs": [],
   "source": []
  }
 ],
 "metadata": {
  "kernelspec": {
   "display_name": "Python 3",
   "language": "python",
   "name": "python3"
  },
  "language_info": {
   "codemirror_mode": {
    "name": "ipython",
    "version": 3
   },
   "file_extension": ".py",
   "mimetype": "text/x-python",
   "name": "python",
   "nbconvert_exporter": "python",
   "pygments_lexer": "ipython3",
   "version": "3.8.3"
  }
 },
 "nbformat": 4,
 "nbformat_minor": 4
}
